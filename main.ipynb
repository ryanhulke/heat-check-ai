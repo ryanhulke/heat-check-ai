{
 "cells": [
  {
   "cell_type": "code",
   "execution_count": 72,
   "metadata": {},
   "outputs": [],
   "source": [
    "import pandas as pd\n",
    "import numpy as np\n",
    "import tensorflow as tf\n",
    "from tensorflow.keras.utils import to_categorical\n",
    "from sklearn.model_selection import train_test_split\n",
    "from tensorflow.keras.models import Sequential\n",
    "from tensorflow.keras.layers import Conv2D, MaxPooling2D, Flatten, Dense, Dropout, BatchNormalization\n"
   ]
  },
  {
   "cell_type": "code",
   "execution_count": 73,
   "metadata": {},
   "outputs": [],
   "source": [
    "# Load the datasets\n",
    "player_positions = pd.read_csv('data/train_locs.csv')\n",
    "game_outcomes = pd.read_csv('data/train_pbp.csv')\n",
    "\n",
    "player_positions = player_positions.to_numpy()"
   ]
  },
  {
   "cell_type": "code",
   "execution_count": 74,
   "metadata": {},
   "outputs": [],
   "source": [
    "\n",
    "# Parameters\n",
    "court_length, court_width = 47, 50\n",
    "grid_size = 1  # 1 foot grid size\n",
    "\n",
    "# Convert court dimensions to a grid\n",
    "n_rows, n_cols = int(court_length / grid_size), int(court_width / grid_size)\n",
    "\n",
    "def positions_to_grid(players):\n",
    "    # Initialize an empty grid\n",
    "    grid = np.zeros((court_length, court_width, 1))  # Single channel for player positions\n",
    "    \n",
    "    # if shooter is on the right side of the court, flip the coordinates\n",
    "    if players[5, 1] > 47:\n",
    "        for i in range(10):\n",
    "            players[i, 1] = 94 - players[i, 1]\n",
    "            players[i, 2] = 50 - players[i, 2]\n",
    "\n",
    "    # Map player positions to grid\n",
    "    for row in players:\n",
    "        x, y, code = min(int(row[1] // grid_size),  n_rows - 1), min(int(row[2] // grid_size), n_cols - 1), row[3]\n",
    "        if 'd' in code:  # Defense\n",
    "            grid[x, y, 0] = 1\n",
    "        elif 't' in code:  # Offense excluding shooter\n",
    "            grid[x, y, 0] = 2\n",
    "        elif 's' in code:  # Shooter\n",
    "            grid[x, y, 0] = 3\n",
    "    return grid\n",
    "\n",
    "X = np.array([positions_to_grid(player_positions[i*10:(i+1)*10, :]) for i in range(int(player_positions.shape[0]/10))])\n",
    "\n",
    "y = game_outcomes[\"is_oreb\"].to_numpy()\n",
    "\n",
    "# Split the dataset\n",
    "X_train, X_test, y_train, y_test = train_test_split(X, y, test_size=0.2, random_state=42)\n",
    "\n",
    "\n"
   ]
  },
  {
   "cell_type": "code",
   "execution_count": 75,
   "metadata": {},
   "outputs": [
    {
     "data": {
      "text/plain": [
       "((24644, 47, 50, 1), (6161, 47, 50, 1), (24644,), (6161,))"
      ]
     },
     "execution_count": 75,
     "metadata": {},
     "output_type": "execute_result"
    }
   ],
   "source": [
    "X_train.shape, X_test.shape, y_train.shape, y_test.shape"
   ]
  },
  {
   "cell_type": "code",
   "execution_count": 76,
   "metadata": {},
   "outputs": [],
   "source": [
    "\n",
    "# Separate the dataset into offensive and defensive rebounds\n",
    "offensive_indices = np.where(y_train == 1)[0]\n",
    "defensive_indices = np.where(y_train == 0)[0]\n",
    "\n",
    "\n",
    "# Now, let's make sure we sample an equal number of examples for both classes\n",
    "# Determine the size of the smaller class to balance the dataset\n",
    "min_size = min(len(offensive_indices), len(defensive_indices))\n",
    "\n",
    "# Randomly sample from the larger class to match the size of the smaller class\n",
    "offensive_indices_balanced = np.random.choice(offensive_indices, min_size, replace=False)\n",
    "defensive_indices_balanced = np.random.choice(defensive_indices, min_size, replace=False)\n",
    "\n",
    "# Combine the indices and then split\n",
    "balanced_indices = np.concatenate([offensive_indices_balanced, defensive_indices_balanced])\n",
    "\n",
    "# Extract the balanced dataset\n",
    "X_balanced = X_train[balanced_indices]\n",
    "y_balanced = y_train[balanced_indices]\n",
    "\n",
    "# Now X_train, X_test have a 50/50 split of offensive and defensive rebounds"
   ]
  },
  {
   "cell_type": "code",
   "execution_count": 77,
   "metadata": {},
   "outputs": [
    {
     "data": {
      "text/plain": [
       "((13888, 47, 50, 1), (13888,))"
      ]
     },
     "execution_count": 77,
     "metadata": {},
     "output_type": "execute_result"
    }
   ],
   "source": [
    "X_balanced.shape, y_balanced.shape"
   ]
  },
  {
   "cell_type": "code",
   "execution_count": 130,
   "metadata": {},
   "outputs": [
    {
     "name": "stdout",
     "output_type": "stream",
     "text": [
      "Model: \"sequential_10\"\n",
      "_________________________________________________________________\n",
      " Layer (type)                Output Shape              Param #   \n",
      "=================================================================\n",
      " masking_10 (Masking)        (None, 47, 50, 1)         0         \n",
      "                                                                 \n",
      " conv2d_11 (Conv2D)          (None, 3, 6, 16)          32416     \n",
      "                                                                 \n",
      " flatten_10 (Flatten)        (None, 288)               0         \n"
     ]
    },
    {
     "name": "stdout",
     "output_type": "stream",
     "text": [
      "                                                                 \n",
      " dense_10 (Dense)            (None, 1)                 289       \n",
      "                                                                 \n",
      "=================================================================\n",
      "Total params: 32,705\n",
      "Trainable params: 32,705\n",
      "Non-trainable params: 0\n",
      "_________________________________________________________________\n"
     ]
    }
   ],
   "source": [
    "from tensorflow.keras.layers import Masking, Input, Conv2D, MaxPooling2D, Flatten, Dense, Multiply, GlobalAveragePooling2D, Dropout, BatchNormalization\n",
    "from tensorflow.keras.models import Model\n",
    "from tensorflow.keras.optimizers import Adam, SGD\n",
    "from tensorflow.keras import regularizers\n",
    "\n",
    "# Define the model\n",
    "model = Sequential()\n",
    "model.add(Masking(mask_value=0, input_shape=(court_length, court_width, 1)))\n",
    "model.add(Conv2D(16, (45, 45), activation='relu',kernel_regularizer = regularizers.L1L2(l1=1e-4, l2=1e-3)))\n",
    "\n",
    "# add final layers\n",
    "model.add(Flatten())\n",
    "model.add(Dense(1, activation='sigmoid'))\n",
    "opt = SGD(learning_rate=1)\n",
    "model.compile(optimizer=opt, loss='binary_crossentropy', metrics=['accuracy'])\n",
    "\n",
    "model.summary()\n"
   ]
  },
  {
   "cell_type": "code",
   "execution_count": 114,
   "metadata": {},
   "outputs": [
    {
     "name": "stdout",
     "output_type": "stream",
     "text": [
      "You must install pydot (`pip install pydot`) and install graphviz (see instructions at https://graphviz.gitlab.io/download/) for plot_model to work.\n"
     ]
    }
   ],
   "source": [
    "from keras.utils import plot_model\n",
    "\n",
    "# Assuming `model` is your Keras model\n",
    "plot_model(model, to_file='model_plot.png', show_shapes=True, show_layer_names=True)"
   ]
  },
  {
   "cell_type": "code",
   "execution_count": 131,
   "metadata": {},
   "outputs": [
    {
     "name": "stdout",
     "output_type": "stream",
     "text": [
      "Epoch 1/20\n",
      "193/193 [==============================] - 3s 14ms/step - loss: 0.6057 - accuracy: 0.7172 - val_loss: 0.5969 - val_accuracy: 0.7174\n",
      "Epoch 2/20\n",
      "193/193 [==============================] - 2s 12ms/step - loss: 0.5971 - accuracy: 0.7182 - val_loss: 0.6170 - val_accuracy: 0.7174\n",
      "Epoch 3/20\n",
      "193/193 [==============================] - 2s 13ms/step - loss: 0.5991 - accuracy: 0.7182 - val_loss: 0.6043 - val_accuracy: 0.7174\n",
      "Epoch 4/20\n",
      "193/193 [==============================] - 2s 12ms/step - loss: 0.5986 - accuracy: 0.7180 - val_loss: 0.6283 - val_accuracy: 0.7116\n",
      "Epoch 5/20\n",
      "193/193 [==============================] - 3s 14ms/step - loss: 0.5998 - accuracy: 0.7188 - val_loss: 0.6122 - val_accuracy: 0.7173\n",
      "Epoch 6/20\n",
      "193/193 [==============================] - 3s 17ms/step - loss: 0.6008 - accuracy: 0.7189 - val_loss: 0.6156 - val_accuracy: 0.7182\n",
      "Epoch 7/20\n",
      "193/193 [==============================] - 4s 20ms/step - loss: 0.6014 - accuracy: 0.7189 - val_loss: 0.6170 - val_accuracy: 0.7177\n",
      "Epoch 8/20\n",
      "193/193 [==============================] - 5s 24ms/step - loss: 0.6019 - accuracy: 0.7201 - val_loss: 0.6289 - val_accuracy: 0.7177\n",
      "Epoch 9/20\n",
      "193/193 [==============================] - 5s 23ms/step - loss: 0.6034 - accuracy: 0.7197 - val_loss: 0.6286 - val_accuracy: 0.7194\n",
      "Epoch 10/20\n",
      "193/193 [==============================] - 5s 24ms/step - loss: 0.6053 - accuracy: 0.7200 - val_loss: 0.6394 - val_accuracy: 0.7134\n",
      "Epoch 11/20\n",
      "193/193 [==============================] - 5s 24ms/step - loss: 0.6051 - accuracy: 0.7218 - val_loss: 0.6466 - val_accuracy: 0.7101\n",
      "Epoch 12/20\n",
      "193/193 [==============================] - 5s 27ms/step - loss: 0.6065 - accuracy: 0.7233 - val_loss: 0.6501 - val_accuracy: 0.7173\n",
      "Epoch 13/20\n",
      "193/193 [==============================] - 3s 13ms/step - loss: 0.6084 - accuracy: 0.7228 - val_loss: 0.6551 - val_accuracy: 0.7140\n",
      "Epoch 14/20\n",
      "193/193 [==============================] - 2s 12ms/step - loss: 0.6110 - accuracy: 0.7263 - val_loss: 0.6675 - val_accuracy: 0.6991\n",
      "Epoch 15/20\n",
      "193/193 [==============================] - 2s 13ms/step - loss: 0.6096 - accuracy: 0.7282 - val_loss: 0.6744 - val_accuracy: 0.7130\n",
      "Epoch 16/20\n",
      "193/193 [==============================] - 3s 13ms/step - loss: 0.6108 - accuracy: 0.7277 - val_loss: 0.6693 - val_accuracy: 0.7082\n",
      "Epoch 17/20\n",
      "193/193 [==============================] - 3s 16ms/step - loss: 0.6116 - accuracy: 0.7298 - val_loss: 0.6839 - val_accuracy: 0.7087\n",
      "Epoch 18/20\n",
      "193/193 [==============================] - 3s 16ms/step - loss: 0.6142 - accuracy: 0.7303 - val_loss: 0.6877 - val_accuracy: 0.7062\n",
      "Epoch 19/20\n",
      "193/193 [==============================] - 3s 17ms/step - loss: 0.6128 - accuracy: 0.7306 - val_loss: 0.6863 - val_accuracy: 0.7049\n",
      "Epoch 20/20\n",
      "193/193 [==============================] - 3s 16ms/step - loss: 0.6142 - accuracy: 0.7341 - val_loss: 0.6863 - val_accuracy: 0.7033\n"
     ]
    }
   ],
   "source": [
    "history = model.fit(X_train, y_train,\n",
    "                    batch_size=128,\n",
    "                    epochs=20,  # Adjust based on convergence and computational resources\n",
    "                    validation_data=(X_test, y_test))"
   ]
  },
  {
   "cell_type": "code",
   "execution_count": 129,
   "metadata": {},
   "outputs": [
    {
     "name": "stdout",
     "output_type": "stream",
     "text": [
      "1/1 [==============================] - 0s 18ms/step\n"
     ]
    },
    {
     "data": {
      "text/plain": [
       "array([[0.26389772]], dtype=float32)"
      ]
     },
     "execution_count": 129,
     "metadata": {},
     "output_type": "execute_result"
    }
   ],
   "source": [
    "example = np.zeros((47,50,1))\n",
    "\n",
    "\n",
    "for i in range(10):\n",
    "    if i<5:\n",
    "        r = np.random.randint(12,25)\n",
    "        theta = np.random.rand()*np.pi\n",
    "        x = min(r*np.cos(theta) + 25,46)\n",
    "        y = min(r*np.sin(theta) + 4, 49)\n",
    "        example[int(x),int(y),0] = 1\n",
    "    if i == 5: \n",
    "        r = np.random.randint(0,12)\n",
    "        theta = np.random.rand()*np.pi\n",
    "        x = min(r*np.cos(theta) + 25,46)\n",
    "        y = min(r*np.sin(theta) + 4, 49)\n",
    "        example[int(x),int(y),0] = 3\n",
    "    if i > 5:\n",
    "        r = np.random.randint(0,12)\n",
    "        theta = np.random.rand()*np.pi\n",
    "        x = min(r*np.cos(theta) + 25,46)\n",
    "        y = min(r*np.sin(theta) + 4, 49)\n",
    "        example[int(x),int(y),0] = 2\n",
    "\n",
    "model.predict(np.array([example]))"
   ]
  }
 ],
 "metadata": {
  "kernelspec": {
   "display_name": "Python 3",
   "language": "python",
   "name": "python3"
  },
  "language_info": {
   "codemirror_mode": {
    "name": "ipython",
    "version": 3
   },
   "file_extension": ".py",
   "mimetype": "text/x-python",
   "name": "python",
   "nbconvert_exporter": "python",
   "pygments_lexer": "ipython3",
   "version": "3.10.13"
  }
 },
 "nbformat": 4,
 "nbformat_minor": 2
}
